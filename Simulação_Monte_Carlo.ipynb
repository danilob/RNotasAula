{
 "cells": [
  {
   "cell_type": "markdown",
   "metadata": {},
   "source": [
    "### Simulação de Monte Carlo Simples\n",
    "Neste notebook será exibido como:\n",
    "- criar uma lista de objetos\n",
    "- realizar um evento: escolher aleatoriamente um objeto em uma lista\n",
    "- realizar a simulação de monte carlo"
   ]
  },
  {
   "cell_type": "markdown",
   "metadata": {},
   "source": [
    "Determinando um lista de objetos, 3 bolas azuis e 2 bolas vermelhas"
   ]
  },
  {
   "cell_type": "code",
   "execution_count": 1,
   "metadata": {},
   "outputs": [],
   "source": [
    "bolas <- rep(c(\"azul\",\"vermelho\"),times=c(3,2))"
   ]
  },
  {
   "cell_type": "markdown",
   "metadata": {},
   "source": [
    "Para visualizar o resultado execute:"
   ]
  },
  {
   "cell_type": "code",
   "execution_count": 2,
   "metadata": {},
   "outputs": [
    {
     "data": {
      "text/html": [
       "<ol class=list-inline>\n",
       "\t<li>'azul'</li>\n",
       "\t<li>'azul'</li>\n",
       "\t<li>'azul'</li>\n",
       "\t<li>'vermelho'</li>\n",
       "\t<li>'vermelho'</li>\n",
       "</ol>\n"
      ],
      "text/latex": [
       "\\begin{enumerate*}\n",
       "\\item 'azul'\n",
       "\\item 'azul'\n",
       "\\item 'azul'\n",
       "\\item 'vermelho'\n",
       "\\item 'vermelho'\n",
       "\\end{enumerate*}\n"
      ],
      "text/markdown": [
       "1. 'azul'\n",
       "2. 'azul'\n",
       "3. 'azul'\n",
       "4. 'vermelho'\n",
       "5. 'vermelho'\n",
       "\n",
       "\n"
      ],
      "text/plain": [
       "[1] \"azul\"     \"azul\"     \"azul\"     \"vermelho\" \"vermelho\""
      ]
     },
     "metadata": {},
     "output_type": "display_data"
    }
   ],
   "source": [
    "bolas"
   ]
  },
  {
   "cell_type": "code",
   "execution_count": null,
   "metadata": {},
   "outputs": [],
   "source": []
  }
 ],
 "metadata": {
  "kernelspec": {
   "display_name": "R",
   "language": "R",
   "name": "ir"
  },
  "language_info": {
   "codemirror_mode": "r",
   "file_extension": ".r",
   "mimetype": "text/x-r-source",
   "name": "R",
   "pygments_lexer": "r",
   "version": "3.6.1"
  }
 },
 "nbformat": 4,
 "nbformat_minor": 4
}
