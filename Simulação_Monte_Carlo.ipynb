{
 "cells": [
  {
   "cell_type": "markdown",
   "metadata": {},
   "source": [
    "### Simulação de Monte Carlo Simples\n",
    "Neste notebook será exibido como:\n",
    "- criar uma lista de objetos\n",
    "- realizar um evento: escolher aleatoriamente um objeto em uma lista\n",
    "- realizar a simulação de monte carlo"
   ]
  },
  {
   "cell_type": "markdown",
   "metadata": {},
   "source": [
    "Determinando um lista de objetos, 3 bolas azuis e 2 bolas vermelhas"
   ]
  },
  {
   "cell_type": "code",
   "execution_count": 1,
   "metadata": {},
   "outputs": [],
   "source": [
    "bolas <- rep(c(\"azul\",\"vermelho\"),times=c(3,2))"
   ]
  },
  {
   "cell_type": "markdown",
   "metadata": {},
   "source": [
    "Para visualizar o resultado execute:"
   ]
  },
  {
   "cell_type": "code",
   "execution_count": 2,
   "metadata": {},
   "outputs": [
    {
     "data": {
      "text/html": [
       "<ol class=list-inline>\n",
       "\t<li>'azul'</li>\n",
       "\t<li>'azul'</li>\n",
       "\t<li>'azul'</li>\n",
       "\t<li>'vermelho'</li>\n",
       "\t<li>'vermelho'</li>\n",
       "</ol>\n"
      ],
      "text/latex": [
       "\\begin{enumerate*}\n",
       "\\item 'azul'\n",
       "\\item 'azul'\n",
       "\\item 'azul'\n",
       "\\item 'vermelho'\n",
       "\\item 'vermelho'\n",
       "\\end{enumerate*}\n"
      ],
      "text/markdown": [
       "1. 'azul'\n",
       "2. 'azul'\n",
       "3. 'azul'\n",
       "4. 'vermelho'\n",
       "5. 'vermelho'\n",
       "\n",
       "\n"
      ],
      "text/plain": [
       "[1] \"azul\"     \"azul\"     \"azul\"     \"vermelho\" \"vermelho\""
      ]
     },
     "metadata": {},
     "output_type": "display_data"
    }
   ],
   "source": [
    "bolas"
   ]
  },
  {
   "cell_type": "markdown",
   "metadata": {},
   "source": [
    "Para produzir um evento aleatório sem reposição utilize a função $sample$"
   ]
  },
  {
   "cell_type": "code",
   "execution_count": 2,
   "metadata": {},
   "outputs": [],
   "source": [
    "escolha <- sample(bolas,1)"
   ]
  },
  {
   "cell_type": "code",
   "execution_count": 3,
   "metadata": {},
   "outputs": [
    {
     "data": {
      "text/html": [
       "'vermelho'"
      ],
      "text/latex": [
       "'vermelho'"
      ],
      "text/markdown": [
       "'vermelho'"
      ],
      "text/plain": [
       "[1] \"vermelho\""
      ]
     },
     "metadata": {},
     "output_type": "display_data"
    }
   ],
   "source": [
    "escolha"
   ]
  },
  {
   "cell_type": "markdown",
   "metadata": {},
   "source": [
    "Imagine que agora queremos determinar a probabilidade de uma bola vermelha ser escolhida ao acaso. Para isso vamos usar uma simulação de Monte Carlo, onde serão gerados um número suficientemente grande de eventos aleatórios (B) onde serão escolhidos uma bola utilizando a função $replicate$. Para que os resultados sejam os mesmos utilizaremos a mesma semente ($seed$)."
   ]
  },
  {
   "cell_type": "code",
   "execution_count": 4,
   "metadata": {},
   "outputs": [],
   "source": [
    "set.seed(1)\n",
    "B <- 10000\n",
    "eventos <- replicate(B, sample(bolas,1))"
   ]
  },
  {
   "cell_type": "markdown",
   "metadata": {},
   "source": [
    "Para sumarizar os eventos em uma tabela contendo a quantidade de eventos em que a bola azul ou vermelha são encontrados utilizamos a função $table$"
   ]
  },
  {
   "cell_type": "code",
   "execution_count": 5,
   "metadata": {},
   "outputs": [
    {
     "data": {
      "text/plain": [
       "eventos\n",
       "    azul vermelho \n",
       "    5916     4084 "
      ]
     },
     "metadata": {},
     "output_type": "display_data"
    }
   ],
   "source": [
    "table(eventos)"
   ]
  },
  {
   "cell_type": "markdown",
   "metadata": {},
   "source": [
    "Para verificar a probabilidade usamos a função $prop.table$ nos eventos"
   ]
  },
  {
   "cell_type": "code",
   "execution_count": 7,
   "metadata": {},
   "outputs": [
    {
     "data": {
      "text/plain": [
       "eventos\n",
       "    azul vermelho \n",
       "  0.5916   0.4084 "
      ]
     },
     "metadata": {},
     "output_type": "display_data"
    }
   ],
   "source": [
    "prop.table(table(eventos))"
   ]
  },
  {
   "cell_type": "markdown",
   "metadata": {},
   "source": [
    "Um resultado similar pode ser obtido usando a função $sample$, mas para isso devemos realizar a reposição da bola:"
   ]
  },
  {
   "cell_type": "code",
   "execution_count": 8,
   "metadata": {},
   "outputs": [
    {
     "data": {
      "text/plain": [
       "eventos\n",
       "    azul vermelho \n",
       "  0.5969   0.4031 "
      ]
     },
     "metadata": {},
     "output_type": "display_data"
    }
   ],
   "source": [
    "eventos <- sample(bolas, B, replace = TRUE)\n",
    "prop.table(table(eventos))"
   ]
  }
 ],
 "metadata": {
  "kernelspec": {
   "display_name": "R",
   "language": "R",
   "name": "ir"
  },
  "language_info": {
   "codemirror_mode": "r",
   "file_extension": ".r",
   "mimetype": "text/x-r-source",
   "name": "R",
   "pygments_lexer": "r",
   "version": "3.6.1"
  }
 },
 "nbformat": 4,
 "nbformat_minor": 4
}
