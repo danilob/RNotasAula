{
 "cells": [
  {
   "cell_type": "markdown",
   "metadata": {},
   "source": [
    "### A - Exercícios em R"
   ]
  },
  {
   "cell_type": "markdown",
   "metadata": {},
   "source": [
    "#### Exercício 1. Probabilidade de ciano - generalizado\n",
    "\n",
    "Uma bola será sorteada aleatoriamente a partir de uma caixa contendo: 3 bolas cianas, 5 bolas magenta e 7 bolas amarelas. Qual é a probabilidade de a bola ser ciana?"
   ]
  },
  {
   "cell_type": "markdown",
   "metadata": {},
   "source": [
    "#### Exercício 2. Probabilidade de não ciano - generalizado\n",
    "\n",
    "Definimos a variável p como a probabilidade de escolher uma bola ciana de uma caixa contendo: 3 bolas cianas, 5 bolas magenta e 7 bolas amarelas. Qual é a probabilidade de a bola que você extrair da caixa uma bola NÃO ciana?"
   ]
  },
  {
   "cell_type": "markdown",
   "metadata": {},
   "source": [
    "#### Exercício 3. Amostragem sem substituição - generalizada\n",
    "\n",
    "Em vez de fazer apenas uma extração, considere fazer duas extrações. Você faz o segundo sorteio sem retornar o primeiro sorteio à caixa. Chamamos isso de amostragem sem substituição. Qual é a probabilidade de o primeiro empate ser ciano e o segundo empate não ser ciano?"
   ]
  },
  {
   "cell_type": "markdown",
   "metadata": {},
   "source": [
    "#### Exercício 4. Amostragem com substituição - generalizada\n",
    "\n",
    "Agora repita o experimento, mas desta vez, depois de fazer o primeiro desenho e registrar a cor, devolva-o à caixa e agite-a. Chamamos isso de amostragem com substituição. Qual é a probabilidade da primeiro bola ser ciano e a segunda bola não ser ciano?"
   ]
  }
 ],
 "metadata": {
  "kernelspec": {
   "display_name": "R",
   "language": "R",
   "name": "ir"
  },
  "language_info": {
   "codemirror_mode": "r",
   "file_extension": ".r",
   "mimetype": "text/x-r-source",
   "name": "R",
   "pygments_lexer": "r",
   "version": "3.6.1"
  }
 },
 "nbformat": 4,
 "nbformat_minor": 4
}
