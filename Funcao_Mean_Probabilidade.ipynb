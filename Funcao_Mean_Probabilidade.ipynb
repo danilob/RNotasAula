{
 "cells": [
  {
   "cell_type": "markdown",
   "metadata": {},
   "source": [
    "### Usar função Mean para probabilidade\n",
    "Em R, aplicar a função mean() a um vetor lógico retorna a proporção de elementos TRUE. É muito comum usar a função mean() dessa maneira para calcular probabilidades e faremos isso ao longo do curso.\n"
   ]
  },
  {
   "cell_type": "markdown",
   "metadata": {},
   "source": [
    "Suponha que você tenha o vetor de bolas:"
   ]
  },
  {
   "cell_type": "code",
   "execution_count": 1,
   "metadata": {},
   "outputs": [
    {
     "data": {
      "text/html": [
       "<ol class=list-inline>\n",
       "\t<li>'vermelho'</li>\n",
       "\t<li>'vermelho'</li>\n",
       "\t<li>'azul'</li>\n",
       "\t<li>'azul'</li>\n",
       "\t<li>'azul'</li>\n",
       "</ol>\n"
      ],
      "text/latex": [
       "\\begin{enumerate*}\n",
       "\\item 'vermelho'\n",
       "\\item 'vermelho'\n",
       "\\item 'azul'\n",
       "\\item 'azul'\n",
       "\\item 'azul'\n",
       "\\end{enumerate*}\n"
      ],
      "text/markdown": [
       "1. 'vermelho'\n",
       "2. 'vermelho'\n",
       "3. 'azul'\n",
       "4. 'azul'\n",
       "5. 'azul'\n",
       "\n",
       "\n"
      ],
      "text/plain": [
       "[1] \"vermelho\" \"vermelho\" \"azul\"     \"azul\"     \"azul\"    "
      ]
     },
     "metadata": {},
     "output_type": "display_data"
    }
   ],
   "source": [
    "bolas <- rep(c(\"vermelho\", \"azul\"), times = c(2,3))\n",
    "bolas"
   ]
  },
  {
   "cell_type": "markdown",
   "metadata": {},
   "source": [
    "Para encontrar a probabilidade de pegar uma bola azul aleatoriamente, você pode executar:"
   ]
  },
  {
   "cell_type": "code",
   "execution_count": 4,
   "metadata": {},
   "outputs": [
    {
     "data": {
      "text/html": [
       "0.6"
      ],
      "text/latex": [
       "0.6"
      ],
      "text/markdown": [
       "0.6"
      ],
      "text/plain": [
       "[1] 0.6"
      ]
     },
     "metadata": {},
     "output_type": "display_data"
    }
   ],
   "source": [
    "mean(bolas == \"azul\")"
   ]
  },
  {
   "cell_type": "markdown",
   "metadata": {},
   "source": [
    "Esse código é dividido em etapas dentro de R. Primeiro, R avalia a instrução lógica bolas == \"azul\", que gera o vetor:"
   ]
  },
  {
   "cell_type": "markdown",
   "metadata": {},
   "source": [
    "<code>FALSO FALSO VERDADEIRO VERDADEIRO VERDADEIRO</code>"
   ]
  },
  {
   "cell_type": "markdown",
   "metadata": {},
   "source": [
    "Quando a função mean é aplicada, R coage os valores lógicos para valores numéricos, alterando TRUE para 1 e FALSE para 0:\n"
   ]
  },
  {
   "cell_type": "markdown",
   "metadata": {},
   "source": [
    "<code>0 0 1 1 1</code>"
   ]
  },
  {
   "cell_type": "markdown",
   "metadata": {},
   "source": [
    "A média dos zeros e uns fornece a proporção de valores TRUE. Como aprendemos e continuaremos vendo, as probabilidades estão diretamente relacionadas à proporção de eventos que atendem a um requisito.\n"
   ]
  }
 ],
 "metadata": {
  "kernelspec": {
   "display_name": "R",
   "language": "R",
   "name": "ir"
  },
  "language_info": {
   "codemirror_mode": "r",
   "file_extension": ".r",
   "mimetype": "text/x-r-source",
   "name": "R",
   "pygments_lexer": "r",
   "version": "3.6.1"
  }
 },
 "nbformat": 4,
 "nbformat_minor": 4
}
